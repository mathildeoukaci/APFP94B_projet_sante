{
 "cells": [
  {
   "cell_type": "markdown",
   "id": "32976adb",
   "metadata": {},
   "source": [
    "# Groupe 3 - Projet Santé "
   ]
  },
  {
   "cell_type": "markdown",
   "id": "9596b71a",
   "metadata": {},
   "source": [
    "### Installations et importations"
   ]
  },
  {
   "cell_type": "code",
   "execution_count": 1,
   "id": "c42c1fc4",
   "metadata": {
    "scrolled": true
   },
   "outputs": [
    {
     "name": "stdout",
     "output_type": "stream",
     "text": [
      "Requirement already satisfied: pydicom in /Users/mathildeoukaci/opt/anaconda3/lib/python3.8/site-packages (2.3.1)\n",
      "Note: you may need to restart the kernel to use updated packages.\n"
     ]
    }
   ],
   "source": [
    "pip install pydicom"
   ]
  },
  {
   "cell_type": "code",
   "execution_count": 2,
   "id": "8ef545dc",
   "metadata": {},
   "outputs": [],
   "source": [
    "import pandas as pd\n",
    "import pydicom\n",
    "import matplotlib.pyplot as plt"
   ]
  },
  {
   "cell_type": "markdown",
   "id": "a09b4d60",
   "metadata": {},
   "source": [
    "### Exploration du dataset"
   ]
  },
  {
   "cell_type": "code",
   "execution_count": 3,
   "id": "75df9181",
   "metadata": {},
   "outputs": [],
   "source": [
    "# XRay jusqu'à LIDC-IDRI-0291 inclus, puis scanner"
   ]
  },
  {
   "cell_type": "code",
   "execution_count": 4,
   "id": "7901cbb1",
   "metadata": {},
   "outputs": [],
   "source": [
    "dataset2 = pd.read_csv('/Users/mathildeoukaci/Desktop/EFREI/COURS/S9/PROJETSANTE/data/downloaded_data/manifest-1600709154662/metadata.csv',\n",
    "                       header=0,\n",
    "                       names=[\"Series UID\", \n",
    "                              \"Collection\", \n",
    "                              \"3rd Party Analysis\",\n",
    "                              \"Data Description URI\", \n",
    "                              \"Subject ID\", \"Study UID\", \n",
    "                              \"Study Description\", \n",
    "                              \"Study Date\", \n",
    "                              \"Series Description\",\n",
    "                              \"Manufacturer\", \n",
    "                              \"Modality\", \n",
    "                              \"SOP Class Name\", \n",
    "                              \"SOP Class UID\", \n",
    "                              \"Number of Images\", \n",
    "                              \"File Size\", \n",
    "                              \"File Location\", \n",
    "                              \"Download Timestamp\",\n",
    "                              \"colA\"])"
   ]
  },
  {
   "cell_type": "code",
   "execution_count": 5,
   "id": "9027dcb5",
   "metadata": {},
   "outputs": [
    {
     "data": {
      "text/html": [
       "<div>\n",
       "<style scoped>\n",
       "    .dataframe tbody tr th:only-of-type {\n",
       "        vertical-align: middle;\n",
       "    }\n",
       "\n",
       "    .dataframe tbody tr th {\n",
       "        vertical-align: top;\n",
       "    }\n",
       "\n",
       "    .dataframe thead th {\n",
       "        text-align: right;\n",
       "    }\n",
       "</style>\n",
       "<table border=\"1\" class=\"dataframe\">\n",
       "  <thead>\n",
       "    <tr style=\"text-align: right;\">\n",
       "      <th></th>\n",
       "      <th>Series UID</th>\n",
       "      <th>Collection</th>\n",
       "      <th>3rd Party Analysis</th>\n",
       "      <th>Data Description URI</th>\n",
       "      <th>Subject ID</th>\n",
       "      <th>Study UID</th>\n",
       "      <th>Study Description</th>\n",
       "      <th>Study Date</th>\n",
       "      <th>Series Description</th>\n",
       "      <th>Manufacturer</th>\n",
       "      <th>Modality</th>\n",
       "      <th>SOP Class Name</th>\n",
       "      <th>SOP Class UID</th>\n",
       "      <th>Number of Images</th>\n",
       "      <th>File Size</th>\n",
       "      <th>File Location</th>\n",
       "      <th>Download Timestamp</th>\n",
       "      <th>colA</th>\n",
       "    </tr>\n",
       "  </thead>\n",
       "  <tbody>\n",
       "    <tr>\n",
       "      <th>0</th>\n",
       "      <td>1.3.6.1.4.1.14519.5.2.1.6279.6001.493562949900...</td>\n",
       "      <td>LIDC-IDRI</td>\n",
       "      <td>NaN</td>\n",
       "      <td>https://doi.org/10.7937/K9/TCIA.2015.LO9QL9SX</td>\n",
       "      <td>LIDC-IDRI-0002</td>\n",
       "      <td>1.3.6.1.4.1.14519.5.2.1.6279.6001.116951808801...</td>\n",
       "      <td>NaN</td>\n",
       "      <td>01-01-2000</td>\n",
       "      <td>NaN</td>\n",
       "      <td>GE MEDICAL SYSTEMS</td>\n",
       "      <td>DX</td>\n",
       "      <td>Digital X-Ray Image Storage - For Presentation</td>\n",
       "      <td>1.2.840.10008.5.1.4.1.1.1.1</td>\n",
       "      <td>1</td>\n",
       "      <td>6</td>\n",
       "      <td>91 MB</td>\n",
       "      <td>./LIDC-IDRI/LIDC-IDRI-0002/01-01-2000-NA-NA-26...</td>\n",
       "      <td>2022-10-28T12:50:05.161</td>\n",
       "    </tr>\n",
       "    <tr>\n",
       "      <th>1</th>\n",
       "      <td>1.3.6.1.4.1.14519.5.2.1.6279.6001.141365756818...</td>\n",
       "      <td>LIDC-IDRI</td>\n",
       "      <td>NaN</td>\n",
       "      <td>https://doi.org/10.7937/K9/TCIA.2015.LO9QL9SX</td>\n",
       "      <td>LIDC-IDRI-0001</td>\n",
       "      <td>1.3.6.1.4.1.14519.5.2.1.6279.6001.175012972118...</td>\n",
       "      <td>NaN</td>\n",
       "      <td>01-01-2000</td>\n",
       "      <td>NaN</td>\n",
       "      <td>GE MEDICAL SYSTEMS</td>\n",
       "      <td>DX</td>\n",
       "      <td>Digital X-Ray Image Storage - For Presentation</td>\n",
       "      <td>1.2.840.10008.5.1.4.1.1.1.1</td>\n",
       "      <td>2</td>\n",
       "      <td>16</td>\n",
       "      <td>36 MB</td>\n",
       "      <td>./LIDC-IDRI/LIDC-IDRI-0001/01-01-2000-NA-NA-35...</td>\n",
       "      <td>2022-10-28T12:50:06.57</td>\n",
       "    </tr>\n",
       "    <tr>\n",
       "      <th>2</th>\n",
       "      <td>1.3.6.1.4.1.14519.5.2.1.6279.6001.179049373636...</td>\n",
       "      <td>LIDC-IDRI</td>\n",
       "      <td>NaN</td>\n",
       "      <td>https://doi.org/10.7937/K9/TCIA.2015.LO9QL9SX</td>\n",
       "      <td>LIDC-IDRI-0001</td>\n",
       "      <td>1.3.6.1.4.1.14519.5.2.1.6279.6001.298806137288...</td>\n",
       "      <td>NaN</td>\n",
       "      <td>01-01-2000</td>\n",
       "      <td>NaN</td>\n",
       "      <td>GE MEDICAL SYSTEMS</td>\n",
       "      <td>CT</td>\n",
       "      <td>CT Image Storage</td>\n",
       "      <td>1.2.840.10008.5.1.4.1.1.2</td>\n",
       "      <td>133</td>\n",
       "      <td>70</td>\n",
       "      <td>33 MB</td>\n",
       "      <td>./LIDC-IDRI/LIDC-IDRI-0001/01-01-2000-NA-NA-30...</td>\n",
       "      <td>2022-10-28T12:50:12.422</td>\n",
       "    </tr>\n",
       "    <tr>\n",
       "      <th>3</th>\n",
       "      <td>1.3.6.1.4.1.14519.5.2.1.6279.6001.619372068417...</td>\n",
       "      <td>LIDC-IDRI</td>\n",
       "      <td>NaN</td>\n",
       "      <td>https://doi.org/10.7937/K9/TCIA.2015.LO9QL9SX</td>\n",
       "      <td>LIDC-IDRI-0002</td>\n",
       "      <td>1.3.6.1.4.1.14519.5.2.1.6279.6001.490157381160...</td>\n",
       "      <td>NaN</td>\n",
       "      <td>01-01-2000</td>\n",
       "      <td>NaN</td>\n",
       "      <td>GE MEDICAL SYSTEMS</td>\n",
       "      <td>CT</td>\n",
       "      <td>CT Image Storage</td>\n",
       "      <td>1.2.840.10008.5.1.4.1.1.2</td>\n",
       "      <td>261</td>\n",
       "      <td>137</td>\n",
       "      <td>73 MB</td>\n",
       "      <td>./LIDC-IDRI/LIDC-IDRI-0002/01-01-2000-NA-NA-98...</td>\n",
       "      <td>2022-10-28T12:50:17.101</td>\n",
       "    </tr>\n",
       "    <tr>\n",
       "      <th>4</th>\n",
       "      <td>1.3.6.1.4.1.14519.5.2.1.6279.6001.170706757615...</td>\n",
       "      <td>LIDC-IDRI</td>\n",
       "      <td>NaN</td>\n",
       "      <td>https://doi.org/10.7937/K9/TCIA.2015.LO9QL9SX</td>\n",
       "      <td>LIDC-IDRI-0003</td>\n",
       "      <td>1.3.6.1.4.1.14519.5.2.1.6279.6001.101370605276...</td>\n",
       "      <td>NaN</td>\n",
       "      <td>01-01-2000</td>\n",
       "      <td>NaN</td>\n",
       "      <td>GE MEDICAL SYSTEMS</td>\n",
       "      <td>CT</td>\n",
       "      <td>CT Image Storage</td>\n",
       "      <td>1.2.840.10008.5.1.4.1.1.2</td>\n",
       "      <td>140</td>\n",
       "      <td>74</td>\n",
       "      <td>11 MB</td>\n",
       "      <td>./LIDC-IDRI/LIDC-IDRI-0003/01-01-2000-NA-NA-94...</td>\n",
       "      <td>2022-10-28T12:50:17.437</td>\n",
       "    </tr>\n",
       "  </tbody>\n",
       "</table>\n",
       "</div>"
      ],
      "text/plain": [
       "                                          Series UID Collection  \\\n",
       "0  1.3.6.1.4.1.14519.5.2.1.6279.6001.493562949900...  LIDC-IDRI   \n",
       "1  1.3.6.1.4.1.14519.5.2.1.6279.6001.141365756818...  LIDC-IDRI   \n",
       "2  1.3.6.1.4.1.14519.5.2.1.6279.6001.179049373636...  LIDC-IDRI   \n",
       "3  1.3.6.1.4.1.14519.5.2.1.6279.6001.619372068417...  LIDC-IDRI   \n",
       "4  1.3.6.1.4.1.14519.5.2.1.6279.6001.170706757615...  LIDC-IDRI   \n",
       "\n",
       "   3rd Party Analysis                           Data Description URI  \\\n",
       "0                 NaN  https://doi.org/10.7937/K9/TCIA.2015.LO9QL9SX   \n",
       "1                 NaN  https://doi.org/10.7937/K9/TCIA.2015.LO9QL9SX   \n",
       "2                 NaN  https://doi.org/10.7937/K9/TCIA.2015.LO9QL9SX   \n",
       "3                 NaN  https://doi.org/10.7937/K9/TCIA.2015.LO9QL9SX   \n",
       "4                 NaN  https://doi.org/10.7937/K9/TCIA.2015.LO9QL9SX   \n",
       "\n",
       "       Subject ID                                          Study UID  \\\n",
       "0  LIDC-IDRI-0002  1.3.6.1.4.1.14519.5.2.1.6279.6001.116951808801...   \n",
       "1  LIDC-IDRI-0001  1.3.6.1.4.1.14519.5.2.1.6279.6001.175012972118...   \n",
       "2  LIDC-IDRI-0001  1.3.6.1.4.1.14519.5.2.1.6279.6001.298806137288...   \n",
       "3  LIDC-IDRI-0002  1.3.6.1.4.1.14519.5.2.1.6279.6001.490157381160...   \n",
       "4  LIDC-IDRI-0003  1.3.6.1.4.1.14519.5.2.1.6279.6001.101370605276...   \n",
       "\n",
       "  Study Description  Study Date Series Description        Manufacturer  \\\n",
       "0               NaN  01-01-2000                NaN  GE MEDICAL SYSTEMS   \n",
       "1               NaN  01-01-2000                NaN  GE MEDICAL SYSTEMS   \n",
       "2               NaN  01-01-2000                NaN  GE MEDICAL SYSTEMS   \n",
       "3               NaN  01-01-2000                NaN  GE MEDICAL SYSTEMS   \n",
       "4               NaN  01-01-2000                NaN  GE MEDICAL SYSTEMS   \n",
       "\n",
       "  Modality                                  SOP Class Name  \\\n",
       "0       DX  Digital X-Ray Image Storage - For Presentation   \n",
       "1       DX  Digital X-Ray Image Storage - For Presentation   \n",
       "2       CT                                CT Image Storage   \n",
       "3       CT                                CT Image Storage   \n",
       "4       CT                                CT Image Storage   \n",
       "\n",
       "                 SOP Class UID  Number of Images  File Size File Location  \\\n",
       "0  1.2.840.10008.5.1.4.1.1.1.1                 1          6         91 MB   \n",
       "1  1.2.840.10008.5.1.4.1.1.1.1                 2         16         36 MB   \n",
       "2    1.2.840.10008.5.1.4.1.1.2               133         70         33 MB   \n",
       "3    1.2.840.10008.5.1.4.1.1.2               261        137         73 MB   \n",
       "4    1.2.840.10008.5.1.4.1.1.2               140         74         11 MB   \n",
       "\n",
       "                                  Download Timestamp                     colA  \n",
       "0  ./LIDC-IDRI/LIDC-IDRI-0002/01-01-2000-NA-NA-26...  2022-10-28T12:50:05.161  \n",
       "1  ./LIDC-IDRI/LIDC-IDRI-0001/01-01-2000-NA-NA-35...   2022-10-28T12:50:06.57  \n",
       "2  ./LIDC-IDRI/LIDC-IDRI-0001/01-01-2000-NA-NA-30...  2022-10-28T12:50:12.422  \n",
       "3  ./LIDC-IDRI/LIDC-IDRI-0002/01-01-2000-NA-NA-98...  2022-10-28T12:50:17.101  \n",
       "4  ./LIDC-IDRI/LIDC-IDRI-0003/01-01-2000-NA-NA-94...  2022-10-28T12:50:17.437  "
      ]
     },
     "execution_count": 5,
     "metadata": {},
     "output_type": "execute_result"
    }
   ],
   "source": [
    "dataset2.head()"
   ]
  },
  {
   "cell_type": "code",
   "execution_count": 6,
   "id": "3e7b07a3",
   "metadata": {},
   "outputs": [
    {
     "name": "stdout",
     "output_type": "stream",
     "text": [
      "<class 'pandas.core.frame.DataFrame'>\n",
      "RangeIndex: 1308 entries, 0 to 1307\n",
      "Data columns (total 18 columns):\n",
      " #   Column                Non-Null Count  Dtype  \n",
      "---  ------                --------------  -----  \n",
      " 0   Series UID            1308 non-null   object \n",
      " 1   Collection            1308 non-null   object \n",
      " 2   3rd Party Analysis    0 non-null      float64\n",
      " 3   Data Description URI  1308 non-null   object \n",
      " 4   Subject ID            1308 non-null   object \n",
      " 5   Study UID             1308 non-null   object \n",
      " 6   Study Description     617 non-null    object \n",
      " 7   Study Date            1308 non-null   object \n",
      " 8   Series Description    464 non-null    object \n",
      " 9   Manufacturer          1308 non-null   object \n",
      " 10  Modality              1308 non-null   object \n",
      " 11  SOP Class Name        1308 non-null   object \n",
      " 12  SOP Class UID         1308 non-null   object \n",
      " 13  Number of Images      1308 non-null   int64  \n",
      " 14  File Size             1308 non-null   int64  \n",
      " 15  File Location         1308 non-null   object \n",
      " 16  Download Timestamp    1308 non-null   object \n",
      " 17  colA                  1308 non-null   object \n",
      "dtypes: float64(1), int64(2), object(15)\n",
      "memory usage: 184.1+ KB\n"
     ]
    }
   ],
   "source": [
    "dataset2.info()"
   ]
  },
  {
   "cell_type": "code",
   "execution_count": 7,
   "id": "7fd82508",
   "metadata": {},
   "outputs": [
    {
     "data": {
      "text/plain": [
       "(1308, 18)"
      ]
     },
     "execution_count": 7,
     "metadata": {},
     "output_type": "execute_result"
    }
   ],
   "source": [
    "dataset2.shape"
   ]
  },
  {
   "cell_type": "markdown",
   "id": "0a694200",
   "metadata": {},
   "source": [
    "### Visualisation des données pour un patient"
   ]
  },
  {
   "cell_type": "code",
   "execution_count": 8,
   "id": "a36dd2e6",
   "metadata": {},
   "outputs": [],
   "source": [
    "test_patient = \"./data/downloaded_data/manifest-1600709154662/LIDC-IDRI/LIDC-IDRI-0150/01-01-2000-NA-NA-42623/3189.000000-W Chest PA-93281/1-1.dcm\""
   ]
  },
  {
   "cell_type": "code",
   "execution_count": 9,
   "id": "0f3ce7b1",
   "metadata": {},
   "outputs": [],
   "source": [
    "ds = pydicom.dcmread(test_patient)"
   ]
  },
  {
   "cell_type": "code",
   "execution_count": 10,
   "id": "2518234d",
   "metadata": {},
   "outputs": [
    {
     "name": "stdout",
     "output_type": "stream",
     "text": [
      "Dataset.file_meta -------------------------------\n",
      "(0002, 0000) File Meta Information Group Length  UL: 204\n",
      "(0002, 0001) File Meta Information Version       OB: b'\\x00\\x01'\n",
      "(0002, 0002) Media Storage SOP Class UID         UI: Computed Radiography Image Storage\n",
      "(0002, 0003) Media Storage SOP Instance UID      UI: 1.3.6.1.4.1.14519.5.2.1.6279.6001.526297199110497537882525691486\n",
      "(0002, 0010) Transfer Syntax UID                 UI: Implicit VR Little Endian\n",
      "(0002, 0012) Implementation Class UID            UI: 1.3.6.1.4.1.22213.1.143\n",
      "(0002, 0013) Implementation Version Name         SH: '0.5'\n",
      "(0002, 0016) Source Application Entity Title     AE: 'POSDA'\n",
      "-------------------------------------------------\n",
      "(0008, 0005) Specific Character Set              CS: 'ISO_IR 100'\n",
      "(0008, 0008) Image Type                          CS: ['DERIVED', 'SECONDARY', '', 'CSA RESAMPLED']\n",
      "(0008, 0016) SOP Class UID                       UI: Computed Radiography Image Storage\n",
      "(0008, 0018) SOP Instance UID                    UI: 1.3.6.1.4.1.14519.5.2.1.6279.6001.526297199110497537882525691486\n",
      "(0008, 0020) Study Date                          DA: '20000101'\n",
      "(0008, 0021) Series Date                         DA: '20000101'\n",
      "(0008, 0022) Acquisition Date                    DA: '20000101'\n",
      "(0008, 0023) Content Date                        DA: '20000101'\n",
      "(0008, 0024) Overlay Date                        DA: '20000101'\n",
      "(0008, 0025) Curve Date                          DA: '20000101'\n",
      "(0008, 002a) Acquisition DateTime                DT: '20000101'\n",
      "(0008, 0030) Study Time                          TM: ''\n",
      "(0008, 0031) Series Time                         TM: ''\n",
      "(0008, 0032) Acquisition Time                    TM: '154736'\n",
      "(0008, 0033) Content Time                        TM: '154736'\n",
      "(0008, 0050) Accession Number                    SH: ''\n",
      "(0008, 0060) Modality                            CS: 'CR'\n",
      "(0008, 0070) Manufacturer                        LO: 'SIEMENS'\n",
      "(0008, 0090) Referring Physician's Name          PN: ''\n",
      "(0008, 103e) Series Description                  LO: 'W Chest PA'\n",
      "(0008, 1090) Manufacturer's Model Name           LO: 'SIEMENS FD-X'\n",
      "(0010, 0010) Patient's Name                      PN: ''\n",
      "(0010, 0020) Patient ID                          LO: 'LIDC-IDRI-0150'\n",
      "(0010, 0030) Patient's Birth Date                DA: ''\n",
      "(0010, 0040) Patient's Sex                       CS: 'M'\n",
      "(0010, 1010) Patient's Age                       AS: ''\n",
      "(0010, 2160) Ethnic Group                        SH: 'white-ns'\n",
      "(0010, 21c0) Pregnancy Status                    US: 4\n",
      "(0010, 21d0) Last Menstrual Date                 DA: '20000101'\n",
      "(0012, 0062) Patient Identity Removed            CS: 'YES'\n",
      "(0012, 0063) De-identification Method            LO: 'DCM:113100/113105/113107/113108/113109/113111'\n",
      "(0013, 0010) Private Creator                     LO: 'CTP'\n",
      "(0013, 1010) Private tag data                    UN: b'LIDC-IDRI '\n",
      "(0013, 1013) Private tag data                    UN: b'62796001'\n",
      "(0018, 0015) Body Part Examined                  CS: 'CHEST'\n",
      "(0018, 0060) KVP                                 DS: '125.0'\n",
      "(0018, 1020) Software Versions                   LO: 'VA20L'\n",
      "(0018, 1110) Distance Source to Detector         DS: '1800.0'\n",
      "(0018, 1150) Exposure Time                       IS: '5'\n",
      "(0018, 1151) X-Ray Tube Current                  IS: '208'\n",
      "(0018, 1152) Exposure                            IS: '1'\n",
      "(0018, 1153) Exposure in uAs                     IS: '1040'\n",
      "(0018, 1160) Filter Type                         SH: 'none'\n",
      "(0018, 1164) Imager Pixel Spacing                DS: [0.143, 0.143]\n",
      "(0018, 1180) Collimator/grid Name                SH: '180cm'\n",
      "(0018, 5101) View Position                       CS: ''\n",
      "(0018, 6000) Sensitivity                         DS: '400.0'\n",
      "(0020, 000d) Study Instance UID                  UI: 1.3.6.1.4.1.14519.5.2.1.6279.6001.177444027186623114853139542623\n",
      "(0020, 000e) Series Instance UID                 UI: 1.3.6.1.4.1.14519.5.2.1.6279.6001.239674109849255565060219893281\n",
      "(0020, 0010) Study ID                            SH: ''\n",
      "(0020, 0011) Series Number                       IS: '3189'\n",
      "(0020, 0012) Acquisition Number                  IS: '1'\n",
      "(0020, 0013) Instance Number                     IS: '1'\n",
      "(0020, 0020) Patient Orientation                 CS: ''\n",
      "(0028, 0002) Samples per Pixel                   US: 1\n",
      "(0028, 0004) Photometric Interpretation          CS: 'MONOCHROME2'\n",
      "(0028, 0010) Rows                                US: 2927\n",
      "(0028, 0011) Columns                             US: 2992\n",
      "(0028, 0100) Bits Allocated                      US: 16\n",
      "(0028, 0101) Bits Stored                         US: 12\n",
      "(0028, 0102) High Bit                            US: 11\n",
      "(0028, 0103) Pixel Representation                US: 0\n",
      "(0028, 0303) Longitudinal Temporal Information M CS: 'MODIFIED'\n",
      "(0028, 1050) Window Center                       DS: '2165.0'\n",
      "(0028, 1051) Window Width                        DS: '2064.0'\n",
      "(0032, 000a) Study Status ID                     CS: ''\n",
      "(0032, 0035) Study Read Time                     TM: ''\n",
      "(0032, 1001) Scheduled Study Start Time          TM: ''\n",
      "(0032, 1021) Scheduled Study Location AE Title   AE: ''\n",
      "(0032, 1060) Requested Procedure Description     LO: ''\n",
      "(0032, 1064)  Requested Procedure Code Sequence  1 item(s) ---- \n",
      "   (0008, 0100) Code Value                          SH: ''\n",
      "   (0008, 0102) Coding Scheme Designator            SH: ''\n",
      "   (0008, 0104) Code Meaning                        LO: ''\n",
      "   ---------\n",
      "(0032, 4000) Study Comments                      LT: ''\n",
      "(0038, 0020) Admitting Date                      DA: '20000101'\n",
      "(0038, 0500) Patient State                       LO: ''\n",
      "(0040, 0002) Scheduled Procedure Step Start Date DA: '20000101'\n",
      "(0040, 0004) Scheduled Procedure Step End Date   DA: '20000101'\n",
      "(0040, 0244) Performed Procedure Step Start Date DA: '20000101'\n",
      "(0040, 0275)  Request Attributes Sequence  1 item(s) ---- \n",
      "   (0040, 1001) Requested Procedure ID              SH: '9205783500089959'\n",
      "   ---------\n",
      "(0040, 2016) Placer Order Number / Imaging Servi LO: ''\n",
      "(0040, 2017) Filler Order Number / Imaging Servi LO: ''\n",
      "(0040, a075) Verifying Observer Name             PN: 'Removed by CTP'\n",
      "(0040, a123) Person Name                         PN: 'Removed by CTP'\n",
      "(0070, 0084) Content Creator's Name              PN: ''\n",
      "(7fe0, 0010) Pixel Data                          OW: Array of 17515168 elements\n"
     ]
    }
   ],
   "source": [
    "print(ds)"
   ]
  },
  {
   "cell_type": "code",
   "execution_count": 11,
   "id": "76e21f8f",
   "metadata": {},
   "outputs": [
    {
     "data": {
      "image/png": "[encoded data removed]",
      "text/plain": [
       "<Figure size 432x288 with 1 Axes>"
      ]
     },
     "metadata": {
      "needs_background": "light"
     },
     "output_type": "display_data"
    }
   ],
   "source": [
    "plt.imshow(ds.pixel_array, cmap=plt.cm.bone)\n",
    "plt.show()"
   ]
  },
  {
   "cell_type": "code",
   "execution_count": null,
   "id": "eada1c64",
   "metadata": {},
   "outputs": [],
   "source": []
  }
 ],
 "metadata": {
  "kernelspec": {
   "display_name": "Python 3",
   "language": "python",
   "name": "python3"
  },
  "language_info": {
   "codemirror_mode": {
    "name": "ipython",
    "version": 3
   },
   "file_extension": ".py",
   "mimetype": "text/x-python",
   "name": "python",
   "nbconvert_exporter": "python",
   "pygments_lexer": "ipython3",
   "version": "3.8.8"
  }
 },
 "nbformat": 4,
 "nbformat_minor": 5
}
